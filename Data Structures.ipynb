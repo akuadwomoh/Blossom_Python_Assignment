{
 "cells": [
  {
   "cell_type": "markdown",
   "id": "3c2e90df",
   "metadata": {},
   "source": [
    "### Q1\n",
    "\n",
    "Name the four built-in data structures in python. Give one examples for each"
   ]
  },
  {
   "cell_type": "code",
   "execution_count": null,
   "id": "e225a49f",
   "metadata": {},
   "outputs": [],
   "source": [
    "# dictionary\n",
    "x= {}\n",
    "# set\n",
    "y= {1,2,8,7,5}\n",
    "# list\n",
    "z= [1,5,4,5,3]\n",
    "# Tuple\n",
    "a= tuple((1,2,3))"
   ]
  },
  {
   "cell_type": "markdown",
   "id": "b6e1dd1b",
   "metadata": {},
   "source": [
    "### Q2\n",
    "\n",
    "State two differences between a list and a tuple in Python."
   ]
  },
  {
   "cell_type": "code",
   "execution_count": null,
   "id": "aa441f04",
   "metadata": {},
   "outputs": [],
   "source": [
    "A list is mutable while tuple immutable\n",
    "A list uses a square bracket[] while a tuple uses culy bracket{}"
   ]
  },
  {
   "cell_type": "markdown",
   "id": "815b4e67",
   "metadata": {},
   "source": [
    "### Q3\n",
    "Make a list containing names of five animals with a variable name `animal_list`\n",
    "\n",
    "Write a code for the following:\n",
    "- Print the first two animals\n",
    "- Print the last two animals\n",
    "- Add three extra animals to the variable `animal_list`\n",
    "- Remove the first two animals from the variable `animal_list`\n",
    "- How many animals are in the `animal_list`?\n",
    "- Create a variable animal_set which stores the set of animal_list \n",
    "- How many elements are in the animal_set?\n"
   ]
  },
  {
   "cell_type": "code",
   "execution_count": 2,
   "id": "da1cc0c8",
   "metadata": {},
   "outputs": [],
   "source": [
    "animal_list = [\"cat\",\"dog\",\"rat\",\"mouse\",\"racoon\"]"
   ]
  },
  {
   "cell_type": "code",
   "execution_count": 4,
   "id": "70c06e8b",
   "metadata": {},
   "outputs": [
    {
     "name": "stdout",
     "output_type": "stream",
     "text": [
      "['cat', 'dog']\n"
     ]
    }
   ],
   "source": [
    "print(animal_list[0:2])"
   ]
  },
  {
   "cell_type": "code",
   "execution_count": 5,
   "id": "785be7fd",
   "metadata": {},
   "outputs": [
    {
     "data": {
      "text/plain": [
       "['mouse', 'racoon']"
      ]
     },
     "execution_count": 5,
     "metadata": {},
     "output_type": "execute_result"
    }
   ],
   "source": [
    "animal_list[-2:]"
   ]
  },
  {
   "cell_type": "code",
   "execution_count": 14,
   "id": "dc4cb8d9",
   "metadata": {},
   "outputs": [
    {
     "data": {
      "text/plain": [
       "['cat', 'dog', 'rat', 'mouse', 'racoon', 'monkey', 'horse', 'bear']"
      ]
     },
     "execution_count": 14,
     "metadata": {},
     "output_type": "execute_result"
    }
   ],
   "source": [
    "animal_list.extend([\"horse\",\"bear\"])\n",
    "animal_list"
   ]
  },
  {
   "cell_type": "code",
   "execution_count": 17,
   "id": "7d885d85",
   "metadata": {},
   "outputs": [],
   "source": [
    "animal_list.remove(\"cat\")\n",
    "animal_list.remove(\"dog\")"
   ]
  },
  {
   "cell_type": "code",
   "execution_count": 19,
   "id": "8abac4be",
   "metadata": {},
   "outputs": [
    {
     "data": {
      "text/plain": [
       "6"
      ]
     },
     "execution_count": 19,
     "metadata": {},
     "output_type": "execute_result"
    }
   ],
   "source": [
    "len(animal_list)"
   ]
  },
  {
   "cell_type": "code",
   "execution_count": 21,
   "id": "d0d3238a",
   "metadata": {},
   "outputs": [
    {
     "data": {
      "text/plain": [
       "{'bear', 'horse', 'monkey', 'mouse', 'racoon', 'rat'}"
      ]
     },
     "execution_count": 21,
     "metadata": {},
     "output_type": "execute_result"
    }
   ],
   "source": [
    "animal_set = set(animal_list)\n",
    "animal_set"
   ]
  },
  {
   "cell_type": "code",
   "execution_count": 22,
   "id": "ed958cb9",
   "metadata": {},
   "outputs": [
    {
     "data": {
      "text/plain": [
       "6"
      ]
     },
     "execution_count": 22,
     "metadata": {},
     "output_type": "execute_result"
    }
   ],
   "source": [
    "len(animal_set)"
   ]
  },
  {
   "cell_type": "markdown",
   "id": "113c9970",
   "metadata": {},
   "source": [
    "### Q4\n",
    "\n",
    "Given a list:\n",
    "\n",
    "suitcase = [\"sunglasses\", \"hat\", \"passport\", \"laptop\", \"suit\", \"shoes\"]\n",
    "\n",
    "a. Create a list called first containing only the two first items from suitcase.\n",
    "\n",
    "b. Create a list called middle containing only the two middle items from suitcase.\n",
    "\n",
    "c. Create a list called last made up only of the last two items from suitcase."
   ]
  },
  {
   "cell_type": "code",
   "execution_count": 24,
   "id": "1fe94424",
   "metadata": {},
   "outputs": [
    {
     "name": "stdout",
     "output_type": "stream",
     "text": [
      "['sunglasses', 'hat']\n"
     ]
    }
   ],
   "source": [
    "suitcase = [\"sunglasses\", \"hat\", \"passport\", \"laptop\", \"suit\", \"shoes\"]\n",
    "first= suitcase[0:2]\n",
    "print(first)"
   ]
  },
  {
   "cell_type": "code",
   "execution_count": 26,
   "id": "171529bc",
   "metadata": {},
   "outputs": [
    {
     "data": {
      "text/plain": [
       "['passport', 'laptop']"
      ]
     },
     "execution_count": 26,
     "metadata": {},
     "output_type": "execute_result"
    }
   ],
   "source": [
    "middle = suitcase[2:4]\n",
    "middle"
   ]
  },
  {
   "cell_type": "code",
   "execution_count": 28,
   "id": "8d84e45c",
   "metadata": {},
   "outputs": [
    {
     "data": {
      "text/plain": [
       "['suit', 'shoes']"
      ]
     },
     "execution_count": 28,
     "metadata": {},
     "output_type": "execute_result"
    }
   ],
   "source": [
    "last = suitcase[4:]\n",
    "last"
   ]
  },
  {
   "cell_type": "markdown",
   "id": "711ba044",
   "metadata": {},
   "source": [
    "### Q5\n",
    "Write a python code to insert 35 into the list below. Make sure it is inserted in the right position to maintain the order of the data.\n",
    "\n",
    "`values = [20,25,30,40,45,50,55,60,65,70]`"
   ]
  },
  {
   "cell_type": "code",
   "execution_count": 29,
   "id": "baad3551",
   "metadata": {},
   "outputs": [],
   "source": [
    "values = [20,25,30,40,45,50,55,60,65,70]\n",
    "values.insert(3,35)"
   ]
  },
  {
   "cell_type": "code",
   "execution_count": 30,
   "id": "cc618396",
   "metadata": {},
   "outputs": [
    {
     "data": {
      "text/plain": [
       "[20, 25, 30, 35, 40, 45, 50, 55, 60, 65, 70]"
      ]
     },
     "execution_count": 30,
     "metadata": {},
     "output_type": "execute_result"
    }
   ],
   "source": [
    "values"
   ]
  },
  {
   "cell_type": "markdown",
   "id": "f535cf64",
   "metadata": {},
   "source": [
    "### Q6\n",
    "\n",
    "Given that Python lists and Python tuples are quite similar – when might you prefer to use a tuple over a list?"
   ]
  },
  {
   "cell_type": "code",
   "execution_count": null,
   "id": "6be29c3b",
   "metadata": {},
   "outputs": [],
   "source": [
    "when the data does require to be changed or updated"
   ]
  },
  {
   "cell_type": "markdown",
   "id": "346927f6",
   "metadata": {},
   "source": [
    "### Q7\n",
    "Create a dictionary with 5 Ghana regions and their capitals and store it in the variable `region_capital`\n",
    "\n",
    "- Print out the keys of region_capital\n",
    "- Print out the values of region_capital\n"
   ]
  },
  {
   "cell_type": "code",
   "execution_count": 32,
   "id": "18c2b758",
   "metadata": {},
   "outputs": [],
   "source": [
    "region_capital= {\"Central\": \"Cape coast\",\n",
    "      \"Greater Accra\": \"Accra\",\n",
    "      \"Eastern\": \"Koforidua\",\n",
    "      \"Ashanti\": \"Kumasi\",\n",
    "      \"Western\": \"Takoradi\"}"
   ]
  },
  {
   "cell_type": "code",
   "execution_count": 33,
   "id": "1ebadc06",
   "metadata": {},
   "outputs": [
    {
     "data": {
      "text/plain": [
       "dict_keys(['Central', 'Greater Accra', 'Eastern', 'Ashanti', 'Western'])"
      ]
     },
     "execution_count": 33,
     "metadata": {},
     "output_type": "execute_result"
    }
   ],
   "source": [
    "region_capital.keys()"
   ]
  },
  {
   "cell_type": "code",
   "execution_count": 34,
   "id": "774d9494",
   "metadata": {},
   "outputs": [
    {
     "data": {
      "text/plain": [
       "dict_values(['Cape coast', 'Accra', 'Koforidua', 'Kumasi', 'Takoradi'])"
      ]
     },
     "execution_count": 34,
     "metadata": {},
     "output_type": "execute_result"
    }
   ],
   "source": [
    "region_capital.values()"
   ]
  },
  {
   "cell_type": "markdown",
   "id": "70526b3b",
   "metadata": {},
   "source": [
    "### Q8\n",
    "\n",
    "`values = [3,4,5,6,3,4,3,5,2,4,2,5,6,1,6]`\n",
    "\n",
    "Using the codes above answer the following questions:\n",
    "- What is the total number of elements in values?\n",
    "- What is the highest occuring number in the values variable?\n",
    "- Convert values into a set and store it into a variable named `values_set`\n",
    "- How many elements are in the variable values_set?\n"
   ]
  },
  {
   "cell_type": "code",
   "execution_count": 49,
   "id": "a95229a8",
   "metadata": {},
   "outputs": [
    {
     "data": {
      "text/plain": [
       "16"
      ]
     },
     "execution_count": 49,
     "metadata": {},
     "output_type": "execute_result"
    }
   ],
   "source": [
    "values = [3,4,5,6,3,4,3,3,5,2,4,2,5,6,1,6]\n",
    "len(values)"
   ]
  },
  {
   "cell_type": "code",
   "execution_count": 47,
   "id": "c37bfb68",
   "metadata": {},
   "outputs": [
    {
     "data": {
      "text/plain": [
       "3"
      ]
     },
     "execution_count": 47,
     "metadata": {},
     "output_type": "execute_result"
    }
   ],
   "source": [
    "\n",
    "    "
   ]
  },
  {
   "cell_type": "code",
   "execution_count": 44,
   "id": "563fa7f8",
   "metadata": {},
   "outputs": [
    {
     "data": {
      "text/plain": [
       "{1, 2, 3, 4, 5, 6}"
      ]
     },
     "execution_count": 44,
     "metadata": {},
     "output_type": "execute_result"
    }
   ],
   "source": [
    "values_set= set(values)\n",
    "values_set"
   ]
  },
  {
   "cell_type": "code",
   "execution_count": 48,
   "id": "4581bb67",
   "metadata": {},
   "outputs": [
    {
     "data": {
      "text/plain": [
       "6"
      ]
     },
     "execution_count": 48,
     "metadata": {},
     "output_type": "execute_result"
    }
   ],
   "source": [
    "len(values_set)"
   ]
  },
  {
   "cell_type": "markdown",
   "id": "801d5876",
   "metadata": {},
   "source": [
    "### Q9\n",
    "Write a Python script to print a dictionary where the keys are numbers between 1 and 15 (both included) and the values are the square of the keys."
   ]
  },
  {
   "cell_type": "code",
   "execution_count": 54,
   "id": "14318407",
   "metadata": {},
   "outputs": [
    {
     "name": "stdout",
     "output_type": "stream",
     "text": [
      "{1: 1, 2: 4, 3: 9, 4: 16, 5: 25, 6: 36, 7: 49, 8: 64, 9: 81, 10: 100, 11: 121, 12: 144, 13: 169, 14: 196, 15: 225}\n"
     ]
    }
   ],
   "source": [
    "a= {}\n",
    "for num in range(1,16):\n",
    "    a[num]= num**2\n",
    "    \n",
    "print(a)"
   ]
  },
  {
   "cell_type": "markdown",
   "id": "18954e57",
   "metadata": {},
   "source": [
    "### Q10\n",
    "Write a Python program to create a dictionary of keys x, y, and z where each key has as value a list from 11-20, 21-30, and 31-40 respectively. Access the fifth value of each key from the dictionary."
   ]
  },
  {
   "cell_type": "code",
   "execution_count": 59,
   "id": "fec19820",
   "metadata": {},
   "outputs": [
    {
     "name": "stdout",
     "output_type": "stream",
     "text": [
      "x: 5\n",
      "y: 25\n",
      "z: 35\n"
     ]
    }
   ],
   "source": [
    "values = ['x','y','z']\n",
    "\n",
    "x = {}\n",
    "for a in values:\n",
    "    if a== 'x':\n",
    "        x[a]= list(range(1,21))\n",
    "    elif a == 'y':\n",
    "        x[a]= list(range(21,31))\n",
    "    else:\n",
    "        x[a]= list(range(31,40))\n",
    "for a in values:\n",
    "    print(f'{a}: {x[a][4]}')\n"
   ]
  }
 ],
 "metadata": {
  "kernelspec": {
   "display_name": "Python 3 (ipykernel)",
   "language": "python",
   "name": "python3"
  },
  "language_info": {
   "codemirror_mode": {
    "name": "ipython",
    "version": 3
   },
   "file_extension": ".py",
   "mimetype": "text/x-python",
   "name": "python",
   "nbconvert_exporter": "python",
   "pygments_lexer": "ipython3",
   "version": "3.9.7"
  }
 },
 "nbformat": 4,
 "nbformat_minor": 5
}
