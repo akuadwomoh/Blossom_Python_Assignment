{
 "cells": [
  {
   "cell_type": "markdown",
   "id": "352dd2e3",
   "metadata": {},
   "source": [
    "### Q1\n",
    "\n",
    "Define a python function that calculate the perimeter of the rectangle\n",
    "\n",
    "Formular\n",
    "\n",
    "formular => 2 X length + 2 X Width"
   ]
  },
  {
   "cell_type": "code",
   "execution_count": 5,
   "id": "30d77505",
   "metadata": {},
   "outputs": [
    {
     "name": "stdout",
     "output_type": "stream",
     "text": [
      "enter length of your rectangle: 18\n",
      "enter width of your rectangle: 12\n",
      "The perimeter of a rectangle is: 60\n"
     ]
    }
   ],
   "source": [
    "length = int(input(\"enter length of your rectangle: \"))\n",
    "width = int(input(\"enter width of your rectangle: \"))\n",
    "\n",
    "def perimeter(length,width):\n",
    "    prmtr= (2 * length) + (2 * width)\n",
    "    print(f\"The perimeter of a rectangle is: {prmtr}\")\n",
    "\n",
    "perimeter(length,width)"
   ]
  },
  {
   "cell_type": "markdown",
   "id": "a56ccec8",
   "metadata": {},
   "source": [
    "### Q2\n",
    "Define the function to calculate the area of a circle. Round the answer to 3 decimal places.\n",
    "\n",
    "**Preamble**\n",
    " - Take pi as 22/7\n",
    " - formular pi x r ** 2"
   ]
  },
  {
   "cell_type": "code",
   "execution_count": 2,
   "id": "dcc7bc19",
   "metadata": {},
   "outputs": [
    {
     "name": "stdout",
     "output_type": "stream",
     "text": [
      "Enter radius of your circle: 8\n",
      "The area of your circle is 201.143\n"
     ]
    }
   ],
   "source": [
    "radius = int(input(\"Enter radius of your circle: \"))\n",
    "\n",
    "def area(r):\n",
    "    pi = 22/7\n",
    "    area = round((pi * (r ** 2)),3)\n",
    "    print(f\"The area of your circle is {area}\")\n",
    "    \n",
    "area(radius)"
   ]
  },
  {
   "cell_type": "markdown",
   "id": "be5a6965",
   "metadata": {},
   "source": [
    "### Q3\n",
    "Define a function that takes a list of numbers and print out the **mean**, **median** and **mode**.\n",
    "\n",
    "- Test your function with the list b\n",
    "\n",
    "`b = [2,3,4,6,7,3,4,3,2,1,3]`"
   ]
  },
  {
   "cell_type": "code",
   "execution_count": 4,
   "id": "6bc4fea6",
   "metadata": {},
   "outputs": [
    {
     "name": "stdout",
     "output_type": "stream",
     "text": [
      "The mean of the numbers is: 3.455\n",
      "The median of the numbers is: 3\n",
      "The mode of the number is: 3\n"
     ]
    }
   ],
   "source": [
    "b = [2,3,4,6,7,3,4,3,2,1,3]\n",
    "\n",
    "def stats(lst):\n",
    "    mean = round(sum(lst)/len(lst),3)\n",
    "    print(f\"The mean of the numbers is: {mean}\")\n",
    "    median= sorted(b)[len(b)// 2]\n",
    "    print(f\"The median of the numbers is: {median}\")\n",
    "    freq_num= {}\n",
    "    for value in b:\n",
    "        if value in freq_num:\n",
    "            freq_num[value] += 1\n",
    "        else:\n",
    "            freq_num[value] = 1\n",
    "            max_value = max(freq_num, key= freq_num.get)\n",
    "    print(f\"The mode of the number is: {max_value}\")\n",
    "\n",
    "stats(b)"
   ]
  },
  {
   "cell_type": "markdown",
   "id": "3313ab10",
   "metadata": {},
   "source": [
    "### Q4\n",
    "Define a function that prints out the list of the first 20 prime numbers"
   ]
  },
  {
   "cell_type": "code",
   "execution_count": 6,
   "id": "d04d3600",
   "metadata": {},
   "outputs": [
    {
     "data": {
      "text/plain": [
       "[2, 3, 5, 7, 11, 13, 17, 19, 23, 29, 31, 37, 41, 43, 47, 53, 59, 61, 67, 71]"
      ]
     },
     "execution_count": 6,
     "metadata": {},
     "output_type": "execute_result"
    }
   ],
   "source": [
    "def prime_numbers():\n",
    "    prime_numbers = []\n",
    "    for num in range(2,100):\n",
    "        for i in range(2,num):\n",
    "            if num % i == 0:\n",
    "                break\n",
    "        else:\n",
    "            prime_numbers.append(num)\n",
    "            if len(prime_numbers) == 20:\n",
    "                break\n",
    "    return prime_numbers\n",
    "\n",
    "prime_numbers()"
   ]
  },
  {
   "cell_type": "markdown",
   "id": "ef1c5863",
   "metadata": {},
   "source": [
    "#### Q5\n",
    "Define a function that takes a list of strings and print out the string and the length of the string.\n",
    "\n",
    "**Example of expected output**\n",
    "\n",
    "{\"Kofi\":4,\n",
    "\"Ama\":3,\n",
    "\"Sedem\":5}"
   ]
  },
  {
   "cell_type": "code",
   "execution_count": 7,
   "id": "e3a9b26d",
   "metadata": {},
   "outputs": [
    {
     "data": {
      "text/plain": [
       "{'Akua': 4, 'Adwoa': 5, 'Emily': 5}"
      ]
     },
     "execution_count": 7,
     "metadata": {},
     "output_type": "execute_result"
    }
   ],
   "source": [
    "lst= {\"Akua\":3,\"Adwoa\":5,\"Emily\":8}\n",
    "def str_and_length(lst):\n",
    "    funct = {}\n",
    "    for i in lst:\n",
    "        funct.update({i:len(i)})\n",
    "    return funct\n",
    "\n",
    "str_and_length(lst)"
   ]
  },
  {
   "cell_type": "markdown",
   "id": "5072c8d8",
   "metadata": {},
   "source": [
    "### Q6\n",
    "Define a function that takes a list of strings and numbers and print out only the strings and the position of the strings.\n",
    "\n",
    "**Preamble**\n",
    "\n",
    "names = ['sedem', 'Kofi', 'kobla']\n",
    "\n",
    "**Expected Output**\n",
    "\n",
    "{'sedem': P0, 'Kofi': P1, 'kobla': P2}"
   ]
  },
  {
   "cell_type": "code",
   "execution_count": 7,
   "id": "0bde3130",
   "metadata": {},
   "outputs": [
    {
     "data": {
      "text/plain": [
       "{'Lyanna': 0, 'Davis': 1, 'Brew': 3}"
      ]
     },
     "execution_count": 7,
     "metadata": {},
     "output_type": "execute_result"
    }
   ],
   "source": [
    "names = ['Lyanna', 'Davis', 20, 'Brew']\n",
    "\n",
    "def str_pos(names):\n",
    "    funct = {}\n",
    "    for i,a in enumerate(names):\n",
    "        if type(a) == str:\n",
    "            funct.update({a :i})\n",
    "    return funct\n",
    "\n",
    "str_pos(names)"
   ]
  },
  {
   "cell_type": "markdown",
   "id": "5593b665",
   "metadata": {},
   "source": [
    "### Q7\n",
    "Define a function that returns whether the sum of a person age and person's date of birth equals 2023\n",
    "\n",
    "**Preamble**\n",
    "\n",
    "2001 + 22 => True\n",
    "\n",
    "2002 + 5 => False"
   ]
  },
  {
   "cell_type": "code",
   "execution_count": 9,
   "id": "f515e7ab",
   "metadata": {},
   "outputs": [
    {
     "name": "stdout",
     "output_type": "stream",
     "text": [
      "Enter your age: 23\n",
      "Enter your birth year: 2000\n",
      "2000 + 23 => True\n"
     ]
    }
   ],
   "source": [
    "age = int(input('Enter your age: '))\n",
    "birth_year = int(input('Enter your birth year: '))\n",
    "\n",
    "def age_checker(age,year):\n",
    "    if age + year == 2023:\n",
    "        print(f\"{year} + {age} => True\")\n",
    "    else:\n",
    "        print(f\"{year} + {age} => False\")\n",
    "        \n",
    "age_checker(age,birth_year)"
   ]
  },
  {
   "cell_type": "markdown",
   "id": "f831e652",
   "metadata": {},
   "source": [
    "### Q8\n",
    "Define a function that determine whether a particular year is a **decade**, the output should be a boolean (True or False)\n"
   ]
  },
  {
   "cell_type": "code",
   "execution_count": 11,
   "id": "afbcbd51",
   "metadata": {},
   "outputs": [
    {
     "name": "stdout",
     "output_type": "stream",
     "text": [
      "Enter year: 2000\n",
      "True\n"
     ]
    }
   ],
   "source": [
    "year= int(input(\"Enter year: \"))\n",
    "\n",
    "def decade_checker(year):\n",
    "    if year % 10 == 0:\n",
    "        print(True)\n",
    "    else:\n",
    "        print(False)\n",
    "        \n",
    "decade_checker(year)"
   ]
  },
  {
   "cell_type": "markdown",
   "id": "211c19e3",
   "metadata": {},
   "source": [
    "### Q9\n",
    "Define a function that contains a list of strings and punctuations,the output should on return the list of punctuations.\n"
   ]
  },
  {
   "cell_type": "code",
   "execution_count": 18,
   "id": "f1ab87b2",
   "metadata": {},
   "outputs": [],
   "source": [
    "lst = ['cup','.','bag','/','rag','!','book',',','\"']\n",
    "\n",
    "\n",
    "def punct(lst):\n",
    "    punctuation= \"!\\\"#$%&'()*+, -./:;<=>?@[\\]^_`{|}~\"\n",
    "    results= []\n",
    "    for i in lst:\n",
    "        if i in punctuation:\n",
    "            results.append(i)\n",
    "    return results"
   ]
  },
  {
   "cell_type": "code",
   "execution_count": 19,
   "id": "85de106a",
   "metadata": {},
   "outputs": [
    {
     "data": {
      "text/plain": [
       "['.', '/', '!', ',', '\"']"
      ]
     },
     "execution_count": 19,
     "metadata": {},
     "output_type": "execute_result"
    }
   ],
   "source": [
    "punct(lst)"
   ]
  },
  {
   "cell_type": "markdown",
   "id": "34bae9ec",
   "metadata": {},
   "source": [
    "### Q10\n",
    "\n",
    "Define a lambda function that print out the cubic root of a list of numbers"
   ]
  },
  {
   "cell_type": "code",
   "execution_count": 10,
   "id": "b64037ce",
   "metadata": {
    "scrolled": true
   },
   "outputs": [
    {
     "data": {
      "text/plain": [
       "[1.0, 1.26, 1.71, 1.59, 2.0, 2.08, 4.0]"
      ]
     },
     "execution_count": 10,
     "metadata": {},
     "output_type": "execute_result"
    }
   ],
   "source": [
    "lst= [1,2,5,4,8,9,64]\n",
    "cubic_root= lambda lst: [round(x**(1/3),2) for x in lst]\n",
    "cubic_root(lst)"
   ]
  },
  {
   "cell_type": "markdown",
   "id": "37974632",
   "metadata": {},
   "source": [
    "### Q11\n",
    "Define a lambda function that print out the cube of a list of numbers"
   ]
  },
  {
   "cell_type": "code",
   "execution_count": 27,
   "id": "89e3aeca",
   "metadata": {},
   "outputs": [
    {
     "data": {
      "text/plain": [
       "[64, 512, 729, 343, 216, 175616]"
      ]
     },
     "execution_count": 27,
     "metadata": {},
     "output_type": "execute_result"
    }
   ],
   "source": [
    "num= [4,8,9,7,6,56]\n",
    "cubic= lambda num: [x**3 for x in num] \n",
    "cubic(num)"
   ]
  },
  {
   "cell_type": "markdown",
   "id": "b1522dbb",
   "metadata": {},
   "source": [
    "### Q12\n",
    "Define a function that take a list of list of numbers and return a list that contains the average of each sublist using map."
   ]
  },
  {
   "cell_type": "code",
   "execution_count": 11,
   "id": "d343a9f0",
   "metadata": {},
   "outputs": [
    {
     "data": {
      "text/plain": [
       "[2.3333333333333335, 7.333333333333333, 5.0]"
      ]
     },
     "execution_count": 11,
     "metadata": {},
     "output_type": "execute_result"
    }
   ],
   "source": [
    "lst_2= [[1,2,4],[8,9,5],[3,7,5]]\n",
    "def average(x):\n",
    "    mean = sum(x)/len(x)\n",
    "    return mean\n",
    "\n",
    "mapping = list(map(average,lst_2))\n",
    "mapping"
   ]
  },
  {
   "cell_type": "markdown",
   "id": "0fd5cd06",
   "metadata": {},
   "source": [
    "### Q13\n",
    "Define a function that takes a list of strings and filter out strings that are upper case."
   ]
  },
  {
   "cell_type": "code",
   "execution_count": 12,
   "id": "dcd07573",
   "metadata": {},
   "outputs": [
    {
     "data": {
      "text/plain": [
       "['BOOK', 'GREEN', 'ROLL']"
      ]
     },
     "execution_count": 12,
     "metadata": {},
     "output_type": "execute_result"
    }
   ],
   "source": [
    "name= ['pen','Red','BOOK','GREEN','box','ROLL']\n",
    "\n",
    "def uppercase(str_upper):\n",
    "    upper= []\n",
    "    for item in str_upper:\n",
    "        if item.isupper():\n",
    "            upper.append(item)\n",
    "    return upper\n",
    "\n",
    "uppercase(name)\n",
    "\n",
    "\n",
    "    "
   ]
  },
  {
   "cell_type": "markdown",
   "id": "d0dddd17",
   "metadata": {},
   "source": [
    "### Q14\n",
    "Define a function that takes a list of numbers and print out the numbers which are prime in the list."
   ]
  },
  {
   "cell_type": "code",
   "execution_count": 8,
   "id": "55cf7650",
   "metadata": {},
   "outputs": [
    {
     "data": {
      "text/plain": [
       "[2, 3, 5, 7, 11, 13, 17, 19, 23, 29, 31, 37, 41, 43, 47]"
      ]
     },
     "execution_count": 8,
     "metadata": {},
     "output_type": "execute_result"
    }
   ],
   "source": [
    "def prime_checker(lst):\n",
    "    prime_list = []\n",
    "    for num in lst:\n",
    "        for i in range(2,num):\n",
    "            if num % i == 0:\n",
    "                break\n",
    "        else:\n",
    "            prime_list.append(num)\n",
    "    return prime_list\n",
    "\n",
    "prime_checker(range(2,50))\n",
    "            \n",
    "        \n",
    "    "
   ]
  },
  {
   "cell_type": "markdown",
   "id": "240741dc",
   "metadata": {},
   "source": [
    "### Q15\n",
    "Define a function that take a list of strings and return a zip of each string and length of a string."
   ]
  },
  {
   "cell_type": "code",
   "execution_count": 13,
   "id": "5829686b",
   "metadata": {},
   "outputs": [
    {
     "name": "stdout",
     "output_type": "stream",
     "text": [
      "('I', 1)\n",
      "('am', 2)\n",
      "('a', 1)\n",
      "('data', 4)\n",
      "('analyst', 7)\n"
     ]
    }
   ],
   "source": [
    "def string_zip(lst):\n",
    "    zipped = zip(lst, map(len,lst))\n",
    "    for zips in zipped:\n",
    "        print(zips)\n",
    "        \n",
    "string= ['I','am','a','data','analyst']\n",
    "string_zip(string)"
   ]
  },
  {
   "cell_type": "markdown",
   "id": "44a1339f",
   "metadata": {},
   "source": [
    "### Q16\n",
    "Define a function that takes in a number and return the first 12 multiples of the the number.\n",
    "\n",
    "Expected Output\n",
    "\n",
    "2 X 1 = 2\n",
    "\n",
    "to\n",
    "\n",
    "2 X 12 = 24"
   ]
  },
  {
   "cell_type": "code",
   "execution_count": 19,
   "id": "c0b99f4f",
   "metadata": {},
   "outputs": [
    {
     "name": "stdout",
     "output_type": "stream",
     "text": [
      "Enter a number: 5\n",
      "5 x 1 = 5\n",
      "5 x 2 = 10\n",
      "5 x 3 = 15\n",
      "5 x 4 = 20\n",
      "5 x 5 = 25\n",
      "5 x 6 = 30\n",
      "5 x 7 = 35\n",
      "5 x 8 = 40\n",
      "5 x 9 = 45\n",
      "5 x 10 = 50\n",
      "5 x 11 = 55\n",
      "5 x 12 = 60\n"
     ]
    }
   ],
   "source": [
    "number= int(input(\"Enter a number: \"))\n",
    "\n",
    "def multiple(number):\n",
    "    for i in range(1,13):\n",
    "        print(f\"{number} x {i} = {number*i}\")\n",
    "\n",
    "multiple(number)\n",
    "    "
   ]
  },
  {
   "cell_type": "markdown",
   "id": "cd63dd99",
   "metadata": {},
   "source": [
    "### Q17\n",
    "Write a Python function to find the maximum of three numbers.\n",
    "\n",
    "**Do not use the max function**"
   ]
  },
  {
   "cell_type": "code",
   "execution_count": 21,
   "id": "afe058f3",
   "metadata": {},
   "outputs": [
    {
     "name": "stdout",
     "output_type": "stream",
     "text": [
      "Enter first number: 9\n",
      "Enter second number: 18\n",
      "Enter third number: 6\n",
      "18 is the maximum number\n"
     ]
    }
   ],
   "source": [
    "first= int(input(\"Enter first number: \"))\n",
    "second= int(input(\"Enter second number: \"))\n",
    "third= int(input(\"Enter third number: \"))\n",
    "\n",
    "def highest(first,second,third):\n",
    "    if  first > second and first > third:\n",
    "        print(f\"{first} is the maximum number\")\n",
    "    elif second > first and second > third:\n",
    "        print(f\"{second} is the maximum number\")\n",
    "    else:\n",
    "        print(f\"{third} is the maximum number\")\n",
    "  \n",
    "highest(first,second,third)"
   ]
  },
  {
   "cell_type": "markdown",
   "id": "67520c0b",
   "metadata": {},
   "source": [
    "### Q18\n",
    "Write a Python function to multiply all the numbers in a list."
   ]
  },
  {
   "cell_type": "code",
   "execution_count": 24,
   "id": "b86c0d51",
   "metadata": {},
   "outputs": [
    {
     "data": {
      "text/plain": [
       "240"
      ]
     },
     "execution_count": 24,
     "metadata": {},
     "output_type": "execute_result"
    }
   ],
   "source": [
    "def multiply(arg):\n",
    "    multiplier = 1\n",
    "    for num in arg:\n",
    "        multiplier *= num\n",
    "    return multiplier\n",
    "\n",
    "multi= [2,4,6,5]\n",
    "multiply(multi)"
   ]
  },
  {
   "cell_type": "markdown",
   "id": "05891582",
   "metadata": {},
   "source": [
    "### Q19\n",
    "Write a Python program to reverse a string"
   ]
  },
  {
   "cell_type": "code",
   "execution_count": 25,
   "id": "b194318e",
   "metadata": {},
   "outputs": [
    {
     "name": "stdout",
     "output_type": "stream",
     "text": [
      "Enter a word: Dwomoh\n",
      "homowD\n"
     ]
    }
   ],
   "source": [
    "user= input('Enter a word: ')\n",
    "\n",
    "def reverse(user):\n",
    "    print(user[::-1])\n",
    "\n",
    "reverse(user)"
   ]
  },
  {
   "cell_type": "markdown",
   "id": "b9025ac8",
   "metadata": {},
   "source": [
    "### Q20\n",
    "Write a python function to return the length of a string."
   ]
  },
  {
   "cell_type": "code",
   "execution_count": 26,
   "id": "6e8ec46b",
   "metadata": {},
   "outputs": [
    {
     "name": "stdout",
     "output_type": "stream",
     "text": [
      "15\n"
     ]
    }
   ],
   "source": [
    "string = \"Blossom_Academy\"\n",
    "\n",
    "def length(string):\n",
    "    print(len(string))\n",
    "\n",
    "length(string)"
   ]
  },
  {
   "cell_type": "markdown",
   "id": "8d1ee176",
   "metadata": {},
   "source": [
    "Have a lovely coding weekend"
   ]
  }
 ],
 "metadata": {
  "kernelspec": {
   "display_name": "Python 3 (ipykernel)",
   "language": "python",
   "name": "python3"
  },
  "language_info": {
   "codemirror_mode": {
    "name": "ipython",
    "version": 3
   },
   "file_extension": ".py",
   "mimetype": "text/x-python",
   "name": "python",
   "nbconvert_exporter": "python",
   "pygments_lexer": "ipython3",
   "version": "3.9.7"
  }
 },
 "nbformat": 4,
 "nbformat_minor": 5
}
