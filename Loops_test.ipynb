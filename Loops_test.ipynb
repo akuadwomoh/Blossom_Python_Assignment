{
 "cells": [
  {
   "cell_type": "markdown",
   "id": "c981861e",
   "metadata": {},
   "source": [
    "# Q1\n",
    "Write a code to display a list of the first 12 multiples of 8 using a for loop\n"
   ]
  },
  {
   "cell_type": "code",
   "execution_count": 1,
   "id": "17ff081b",
   "metadata": {},
   "outputs": [
    {
     "data": {
      "text/plain": [
       "[8, 16, 24, 32, 40, 48, 56, 64, 72, 80, 88, 96]"
      ]
     },
     "execution_count": 1,
     "metadata": {},
     "output_type": "execute_result"
    }
   ],
   "source": [
    "multiples= []\n",
    "for i in range(1,13):\n",
    "    x = i*8\n",
    "    multiples.append(x)\n",
    "    \n",
    "multiples"
   ]
  },
  {
   "cell_type": "markdown",
   "id": "d9f7d0f9",
   "metadata": {},
   "source": [
    "# Q2\n",
    "Write the code to print sum of all even numbers from 1 to 201"
   ]
  },
  {
   "cell_type": "code",
   "execution_count": 2,
   "id": "b76bd7d8",
   "metadata": {},
   "outputs": [
    {
     "data": {
      "text/plain": [
       "10100"
      ]
     },
     "execution_count": 2,
     "metadata": {},
     "output_type": "execute_result"
    }
   ],
   "source": [
    "even = 0\n",
    "for num in range(0,201,2):\n",
    "    even += num\n",
    "\n",
    "even"
   ]
  },
  {
   "cell_type": "markdown",
   "id": "4f0f12d7",
   "metadata": {},
   "source": [
    "# Q3\n",
    "`my_list = [3, 5, 7, 12, 41]`\n",
    "\n",
    "Write the code to display the list of the squares of each number in my list\n",
    "\n",
    "- Without using list comprehension\n",
    "- Using list comprehension\n"
   ]
  },
  {
   "cell_type": "code",
   "execution_count": 3,
   "id": "fe3bff9c",
   "metadata": {},
   "outputs": [
    {
     "data": {
      "text/plain": [
       "[9, 25, 49, 144, 1681]"
      ]
     },
     "execution_count": 3,
     "metadata": {},
     "output_type": "execute_result"
    }
   ],
   "source": [
    "my_list = [3, 5, 7, 12, 41]\n",
    "\n",
    "squares_ls= []\n",
    "for i in my_list:\n",
    "    squares= i**2\n",
    "    squares_ls.append(squares)\n",
    "    \n",
    "squares_ls"
   ]
  },
  {
   "cell_type": "code",
   "execution_count": 4,
   "id": "b998865e",
   "metadata": {},
   "outputs": [
    {
     "data": {
      "text/plain": [
       "[9, 25, 49, 144, 1681]"
      ]
     },
     "execution_count": 4,
     "metadata": {},
     "output_type": "execute_result"
    }
   ],
   "source": [
    "square_ls =[num**2 for num in my_list]\n",
    "\n",
    "square_ls"
   ]
  },
  {
   "cell_type": "markdown",
   "id": "28bed149",
   "metadata": {},
   "source": [
    "# Q4\n",
    "`my_list1 = [3, 53,47, 22, 53, 78, 12, 41]`\n",
    "\n",
    "Calculate the average of my_list1\n",
    "\n",
    "- Without using sum and len fucnctions\n",
    "- Using sum and len functions\n"
   ]
  },
  {
   "cell_type": "code",
   "execution_count": 5,
   "id": "b4bacf71",
   "metadata": {},
   "outputs": [
    {
     "data": {
      "text/plain": [
       "38.625"
      ]
     },
     "execution_count": 5,
     "metadata": {},
     "output_type": "execute_result"
    }
   ],
   "source": [
    "my_list1 = [3, 53,47, 22, 53, 78, 12, 41]\n",
    "\n",
    "sumx = 0\n",
    "count = 0\n",
    "\n",
    "for num in my_list1:\n",
    "    sumx += num\n",
    "    count += 1\n",
    "average = sumx/count\n",
    "\n",
    "average"
   ]
  },
  {
   "cell_type": "code",
   "execution_count": 6,
   "id": "ae68290b",
   "metadata": {},
   "outputs": [
    {
     "data": {
      "text/plain": [
       "38.625"
      ]
     },
     "execution_count": 6,
     "metadata": {},
     "output_type": "execute_result"
    }
   ],
   "source": [
    "average = sum(my_list1)/len(my_list1)\n",
    "average"
   ]
  },
  {
   "cell_type": "markdown",
   "id": "38c1ddff",
   "metadata": {},
   "source": [
    "# Q4\n",
    "\n",
    "Write a Python program to guess a number between 1 and 9.\n",
    "User is prompted to enter a guess. If the user guesses wrong then the prompt appears again until the guess is correct, on successful guess, user will get a \"Well guessed!\" message, and the program will exit."
   ]
  },
  {
   "cell_type": "code",
   "execution_count": 7,
   "id": "413684af",
   "metadata": {},
   "outputs": [
    {
     "name": "stdout",
     "output_type": "stream",
     "text": [
      "Guess a number: 5\n",
      "Well guessed!\n"
     ]
    }
   ],
   "source": [
    "answer = 5\n",
    "correct = False\n",
    "while not correct:\n",
    "    number = int(input(\"Guess a number: \"))\n",
    "    correct = answer == number \n",
    "    if correct:\n",
    "        print(\"Well guessed!\")\n",
    "    "
   ]
  },
  {
   "cell_type": "markdown",
   "id": "f5c02baa",
   "metadata": {},
   "source": [
    "# Q5\n",
    "Write a Python program to construct the following pattern.\n",
    "\n",
    "`*` \n",
    "\n",
    "`* *` \n",
    "\n",
    "`* * *` \n",
    "\n",
    "`* * * *` \n",
    "\n",
    "`* * * * *`"
   ]
  },
  {
   "cell_type": "code",
   "execution_count": 8,
   "id": "1b1adf7a",
   "metadata": {},
   "outputs": [
    {
     "name": "stdout",
     "output_type": "stream",
     "text": [
      "*\n",
      "**\n",
      "***\n",
      "****\n",
      "*****\n"
     ]
    }
   ],
   "source": [
    "for i in range(1,6):\n",
    "    print(\"*\" * i)"
   ]
  },
  {
   "cell_type": "markdown",
   "id": "5fe06511",
   "metadata": {},
   "source": [
    "# Q7\n",
    "Write a Python program that accepts a word from the user and reverses it."
   ]
  },
  {
   "cell_type": "code",
   "execution_count": 9,
   "id": "568fd584",
   "metadata": {},
   "outputs": [
    {
     "name": "stdout",
     "output_type": "stream",
     "text": [
      "Enter word: blossom\n",
      "mossolb\n"
     ]
    }
   ],
   "source": [
    "user= input('Enter word: ')\n",
    "reverse_word = user[::-1]\n",
    "print(reverse_word)"
   ]
  },
  {
   "cell_type": "markdown",
   "id": "5a99d4b3",
   "metadata": {},
   "source": [
    "# Q8\n",
    "\n",
    "`lst = [3,4,5,4,7,8,5,8,3,6,8,9,11]`\n",
    "\n",
    "Write a Python program to count the number of even and odd numbers in the above list of numbers.\n",
    "\n",
    "**Expected output should be in this format**\n",
    "\n",
    "{\"Even\" : num_of_even, \"Odd\": num_of_odd}"
   ]
  },
  {
   "cell_type": "code",
   "execution_count": 10,
   "id": "61b88f66",
   "metadata": {},
   "outputs": [
    {
     "name": "stdout",
     "output_type": "stream",
     "text": [
      " (Even: 6, Odd: 7)\n"
     ]
    }
   ],
   "source": [
    "lst = [3,4,5,4,7,8,5,8,3,6,8,9,11]\n",
    "even_num = 0\n",
    "odd_num = 0\n",
    "\n",
    "for num in lst:\n",
    "    if num % 2 == 0:\n",
    "        even_num += 1\n",
    "    else:\n",
    "        odd_num += 1\n",
    "\n",
    "print(f\" (Even: {even_num}, Odd: {odd_num})\")"
   ]
  },
  {
   "cell_type": "markdown",
   "id": "c92b54f9",
   "metadata": {},
   "source": [
    "# Q9\n",
    " Write a Python program that iterates the integers from 1 to 50. For multiples of three print \"Fizz\" instead of the number and for multiples of five print \"Buzz\". For numbers that are multiples of three and five, print \"FizzBuzz\".\n",
    "Sample Output :\n",
    "1\n",
    "\n",
    "2\n",
    "\n",
    "fizz\n",
    "\n",
    "4\n",
    "\n",
    "buzz"
   ]
  },
  {
   "cell_type": "code",
   "execution_count": 11,
   "id": "8d1c0ea8",
   "metadata": {},
   "outputs": [
    {
     "name": "stdout",
     "output_type": "stream",
     "text": [
      "1\n",
      "2\n",
      "Fizz\n",
      "4\n",
      "Buzz\n",
      "Fizz\n",
      "7\n",
      "8\n",
      "Fizz\n",
      "Buzz\n",
      "11\n",
      "Fizz\n",
      "13\n",
      "14\n",
      "FizzBuzz\n",
      "16\n",
      "17\n",
      "Fizz\n",
      "19\n",
      "Buzz\n",
      "Fizz\n",
      "22\n",
      "23\n",
      "Fizz\n",
      "Buzz\n",
      "26\n",
      "Fizz\n",
      "28\n",
      "29\n",
      "FizzBuzz\n",
      "31\n",
      "32\n",
      "Fizz\n",
      "34\n",
      "Buzz\n",
      "Fizz\n",
      "37\n",
      "38\n",
      "Fizz\n",
      "Buzz\n",
      "41\n",
      "Fizz\n",
      "43\n",
      "44\n",
      "FizzBuzz\n",
      "46\n",
      "47\n",
      "Fizz\n",
      "49\n"
     ]
    }
   ],
   "source": [
    "for i in range(1,50):\n",
    "    if i%15 == 0:\n",
    "        print(\"FizzBuzz\")\n",
    "    elif i%5 == 0:\n",
    "        print(\"Buzz\")\n",
    "    elif i%3 == 0:\n",
    "        print(\"Fizz\")\n",
    "    else:\n",
    "        print(i)\n",
    "        "
   ]
  },
  {
   "cell_type": "markdown",
   "id": "8d3505cf",
   "metadata": {},
   "source": [
    "# Q10\n",
    " Write a Python program to find the median of three values inputs from the user"
   ]
  },
  {
   "cell_type": "code",
   "execution_count": 16,
   "id": "a950491c",
   "metadata": {},
   "outputs": [
    {
     "name": "stdout",
     "output_type": "stream",
     "text": [
      "Enter first number: 18\n",
      "Enter second number: 17\n",
      "Enter third number: 21\n",
      " (median: 18)\n"
     ]
    }
   ],
   "source": [
    "user_1= int(input(\"Enter first number: \"))\n",
    "user_2= int(input(\"Enter second number: \"))\n",
    "user_3= int(input(\"Enter third number: \"))\n",
    "\n",
    "user_ls= [user_1,user_2,user_3]\n",
    "for i in user_ls:\n",
    "    user_ls.sort()\n",
    "\n",
    "print( f\" (median: {user_ls[1]})\")\n",
    "\n",
    "    "
   ]
  },
  {
   "cell_type": "markdown",
   "id": "9ef4f8a2",
   "metadata": {},
   "source": [
    "# Q11\n",
    "Write a Python program to calculate the sum and average of n integer numbers (input from the user). Input 0 to finish."
   ]
  },
  {
   "cell_type": "code",
   "execution_count": 20,
   "id": "6dfdf9db",
   "metadata": {},
   "outputs": [
    {
     "name": "stdout",
     "output_type": "stream",
     "text": [
      "How many numbers do you want to calculate for? 4\n",
      "Enter number: 5\n",
      "Enter number: 12\n",
      "Enter number: 8\n",
      "Enter number: 15\n",
      "\n",
      "Sum of the 4 numbers is: 40\n",
      "Average of the 4 numbers is: 10.0\n",
      "How many numbers do you want to calculate for? 0\n"
     ]
    }
   ],
   "source": [
    "while True:\n",
    "    count = int(input(\"How many numbers do you want to calculate for? \"))\n",
    "    \n",
    "    if count == 0:\n",
    "        break\n",
    "\n",
    "    sum = 0\n",
    "    for x in range(1, count+1):\n",
    "        num = int(input(\"Enter number: \"))\n",
    "        sum += num\n",
    "\n",
    "    print()\n",
    "    print(\"Sum of the\", count, \"numbers is:\", sum)   \n",
    "    average = sum / count\n",
    "    print(\"Average of the\", count, \"numbers is:\", average)"
   ]
  },
  {
   "cell_type": "markdown",
   "id": "45f5c335",
   "metadata": {},
   "source": [
    "# Q12\n",
    " Write a Python program to create the multiplication table (from 1 to 12) of a number input from a user.\n",
    " \n",
    " Expected Output:\n",
    "\n",
    "Input a number: 6                                                       \n",
    "6 x 1 = 6                                                               \n",
    "6 x 2 = 12                                                              \n",
    "6 x 3 = 18                                                              \n",
    "6 x 4 = 24                                                              \n",
    "6 x 5 = 30                                                              \n",
    "6 x 6 = 36                                                              \n",
    "6 x 7 = 42                                                              \n",
    "6 x 8 = 48                                                              \n",
    "6 x 9 = 54                                                              \n",
    "6 x 10 = 60 \n",
    "\n",
    "6 x 11 = 66\n",
    "\n",
    "6 x 12 = 72"
   ]
  },
  {
   "cell_type": "code",
   "execution_count": 21,
   "id": "ba404e35",
   "metadata": {},
   "outputs": [
    {
     "name": "stdout",
     "output_type": "stream",
     "text": [
      "Enter number5\n",
      "5 x 1 = 5\n",
      "5 x 2 = 10\n",
      "5 x 3 = 15\n",
      "5 x 4 = 20\n",
      "5 x 5 = 25\n",
      "5 x 6 = 30\n",
      "5 x 7 = 35\n",
      "5 x 8 = 40\n",
      "5 x 9 = 45\n",
      "5 x 10 = 50\n",
      "5 x 11 = 55\n",
      "5 x 12 = 60\n"
     ]
    }
   ],
   "source": [
    "num = int(input(\"Enter number\"))\n",
    "\n",
    "for i in range(1,13):\n",
    "    print(f\"{num} x {i} = {num*i}\")"
   ]
  },
  {
   "cell_type": "markdown",
   "id": "8cc97048",
   "metadata": {},
   "source": [
    "# Q13\n",
    "Write a Python program to construct the following pattern\n",
    "\n",
    "1\n",
    "\n",
    "22\n",
    "\n",
    "333\n",
    "\n",
    "4444\n",
    "\n",
    "55555\n",
    "\n",
    "666666\n",
    "\n",
    "7777777\n",
    "\n",
    "88888888\n",
    "\n",
    "999999999"
   ]
  },
  {
   "cell_type": "code",
   "execution_count": 22,
   "id": "b1ac10a2",
   "metadata": {},
   "outputs": [
    {
     "name": "stdout",
     "output_type": "stream",
     "text": [
      "1\n",
      "\n",
      "22\n",
      "\n",
      "333\n",
      "\n",
      "4444\n",
      "\n",
      "55555\n",
      "\n",
      "666666\n",
      "\n",
      "7777777\n",
      "\n",
      "88888888\n",
      "\n",
      "999999999\n",
      "\n"
     ]
    }
   ],
   "source": [
    "for i in range(1,10):\n",
    "    print(str(i)*i)\n",
    "    print()"
   ]
  },
  {
   "cell_type": "markdown",
   "id": "adef967a",
   "metadata": {},
   "source": [
    "# Q14\n",
    "Print sum of all odd numbers from 10 to 50"
   ]
  },
  {
   "cell_type": "code",
   "execution_count": 23,
   "id": "be3f0615",
   "metadata": {},
   "outputs": [
    {
     "name": "stdout",
     "output_type": "stream",
     "text": [
      "600\n"
     ]
    }
   ],
   "source": [
    "total= 0\n",
    "for  num in range(10,51):\n",
    "    if num % 2 == 1:\n",
    "        total += num\n",
    "\n",
    "print(total)\n",
    "    "
   ]
  },
  {
   "cell_type": "markdown",
   "id": "a3988b57",
   "metadata": {},
   "source": [
    "# Q15\n",
    "\n",
    "`my_list = [25, 100, 121, 400, 81]`\n",
    "\n",
    "Write the code to display the list of the square root of each number in my list\n",
    "\n",
    "- Without using list comprehension\n",
    "- Using list comprehension"
   ]
  },
  {
   "cell_type": "code",
   "execution_count": 24,
   "id": "cb07cab6",
   "metadata": {},
   "outputs": [
    {
     "data": {
      "text/plain": [
       "[625, 10000, 14641, 160000, 6561]"
      ]
     },
     "execution_count": 24,
     "metadata": {},
     "output_type": "execute_result"
    }
   ],
   "source": [
    "my_list = [25, 100, 121, 400, 81]\n",
    "squares_ls= []\n",
    "for i in my_list:\n",
    "    squares= i**2\n",
    "    squares_ls.append(squares)\n",
    "    \n",
    "squares_ls"
   ]
  },
  {
   "cell_type": "code",
   "execution_count": 25,
   "id": "23cbef72",
   "metadata": {},
   "outputs": [
    {
     "data": {
      "text/plain": [
       "[625, 10000, 14641, 160000, 6561]"
      ]
     },
     "execution_count": 25,
     "metadata": {},
     "output_type": "execute_result"
    }
   ],
   "source": [
    "square_ls =[num**2 for num in my_list]\n",
    "\n",
    "square_ls"
   ]
  }
 ],
 "metadata": {
  "kernelspec": {
   "display_name": "Python 3 (ipykernel)",
   "language": "python",
   "name": "python3"
  },
  "language_info": {
   "codemirror_mode": {
    "name": "ipython",
    "version": 3
   },
   "file_extension": ".py",
   "mimetype": "text/x-python",
   "name": "python",
   "nbconvert_exporter": "python",
   "pygments_lexer": "ipython3",
   "version": "3.9.7"
  }
 },
 "nbformat": 4,
 "nbformat_minor": 5
}
